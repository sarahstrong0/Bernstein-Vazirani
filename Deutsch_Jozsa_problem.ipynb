{
  "nbformat": 4,
  "nbformat_minor": 0,
  "metadata": {
    "colab": {
      "provenance": []
    },
    "kernelspec": {
      "name": "python3",
      "display_name": "Python 3"
    },
    "language_info": {
      "name": "python"
    }
  },
  "cells": [
    {
      "cell_type": "markdown",
      "source": [
        "###The Deutsch-Jozsa problem:<br>\n",
        "Input: a function f : {0, 1}<sup>n</sup> → {0, 1}.<br>\n",
        "Assumption: *f* is either constant or balanced.<br>\n",
        "Output: 0 if *f* is constant; 1 if *f* is balanced.<br>\n",
        "Notation: {0, 1} is the set of bits, and {0, 1}<sup>n</sup> is the set of bit strings of length *n*.<br><br>\n",
        "Terminology:<br>\n",
        "Constant: *f* is constant if either *f* always outputs 0 or *f* always outputs 1.<br>\n",
        "Balanced: *f* is balanced if *f* outputs 0 on exactly half of the inputs.<br>\n"
      ],
      "metadata": {
        "id": "Rraes_4Tu5az"
      }
    },
    {
      "cell_type": "code",
      "source": [],
      "metadata": {
        "id": "77nor9vEV4L5"
      },
      "execution_count": null,
      "outputs": []
    },
    {
      "cell_type": "code",
      "source": [
        "# for each bistring combination of length n, check all f's return the same or not\n",
        "# for example:\n",
        "# if n = 2, check the value of f(0,0) is consistent with the rest of the set f(0,1), f(1,0), f(1,1)\n",
        "# if any of the 2^n combinations return something different, it is not a constant function\n",
        "\n",
        "def is_const_or_balanced(f, n):\n",
        "  #arbitrary x1 (picked [0,0,...])\n",
        "  x0 = \"0\" * n\n",
        "  # all binary combinations of length n exist in range (2^n)\n",
        "  for num in range (2**n):\n",
        "    binary_num = bin(num)\n",
        "    # check all possible combinations are the same as x0\n",
        "    if f(x0) != f(binary_num):\n",
        "      # not all outputs are the same\n",
        "      print(\"Balanced\")\n",
        "      return 1\n",
        "  # all outputs are the same\n",
        "  print(\"Constant\")\n",
        "  return 0\n",
        "\n",
        "# inputs to f must be binary strings\n",
        "test_bal_func = lambda x: int(x, 2) % 2\n",
        "test_const_func = lambda x: int(x,2) - int(x,2)\n",
        "\n",
        "is_const_or_balanced(test_bal_func, 2)\n",
        "is_const_or_balanced(test_const_func, 3)\n"
      ],
      "metadata": {
        "colab": {
          "base_uri": "https://localhost:8080/"
        },
        "id": "nQjwlIv7u6FC",
        "outputId": "7602ca76-b835-4a3b-eb8e-e8c789f5e001"
      },
      "execution_count": null,
      "outputs": [
        {
          "output_type": "stream",
          "name": "stdout",
          "text": [
            "Balanced\n",
            "Constant\n"
          ]
        },
        {
          "output_type": "execute_result",
          "data": {
            "text/plain": [
              "0"
            ]
          },
          "metadata": {},
          "execution_count": 48
        }
      ]
    },
    {
      "cell_type": "code",
      "source": [],
      "metadata": {
        "id": "MVIovXz61nLe"
      },
      "execution_count": null,
      "outputs": []
    }
  ]
}